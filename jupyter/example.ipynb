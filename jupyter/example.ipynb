{
 "cells": [
  {
   "cell_type": "code",
   "execution_count": 5,
   "metadata": {},
   "outputs": [
    {
     "ename": "ModuleNotFoundError",
     "evalue": "No module named 'ip_sionna'",
     "output_type": "error",
     "traceback": [
      "\u001b[0;31m---------------------------------------------------------------------------\u001b[0m",
      "\u001b[0;31mModuleNotFoundError\u001b[0m                       Traceback (most recent call last)",
      "Cell \u001b[0;32mIn [5], line 6\u001b[0m\n\u001b[1;32m      2\u001b[0m sys\u001b[38;5;241m.\u001b[39mpath\u001b[38;5;241m.\u001b[39mappend(\u001b[38;5;124m'\u001b[39m\u001b[38;5;124mC:/Users/grube/ip-sionna\u001b[39m\u001b[38;5;124m'\u001b[39m)  \u001b[38;5;66;03m# Replace with the correct path\u001b[39;00m\n\u001b[1;32m      4\u001b[0m \u001b[38;5;28;01mimport\u001b[39;00m \u001b[38;5;21;01msionna\u001b[39;00m \u001b[38;5;28;01mas\u001b[39;00m \u001b[38;5;21;01msn\u001b[39;00m\n\u001b[0;32m----> 6\u001b[0m \u001b[38;5;28;01mfrom\u001b[39;00m \u001b[38;5;21;01mip_sionna\u001b[39;00m\u001b[38;5;21;01m.\u001b[39;00m\u001b[38;5;21;01mend2endModel\u001b[39;00m \u001b[38;5;28;01mimport\u001b[39;00m end2endModel \u001b[38;5;28;01mas\u001b[39;00m e2e\n\u001b[1;32m      8\u001b[0m num_bits_per_symbol \u001b[38;5;241m=\u001b[39m \u001b[38;5;241m2\u001b[39m\n\u001b[1;32m      9\u001b[0m block_length \u001b[38;5;241m=\u001b[39m \u001b[38;5;241m1024\u001b[39m\n",
      "\u001b[0;31mModuleNotFoundError\u001b[0m: No module named 'ip_sionna'"
     ]
    }
   ],
   "source": [
    "import sys\n",
    "sys.path.append('C:/Users/grube/ip-sionna')  # Replace with the correct path\n",
    "\n",
    "import sionna as sn\n",
    "\n",
    "from end2endModel import end2endModel as e2e\n",
    "\n",
    "num_bits_per_symbol = 2\n",
    "block_length = 1024\n",
    "ebno_db_min = -3.0 # Minimum value of Eb/N0 [dB] for simulations\n",
    "ebno_db_max = 5.0 # Maximum value of Eb/N0 [dB] for simulations\n",
    "batch_size = 2000 # How many examples are processed by Sionna in parallel\n",
    "\n",
    "uncoded_e2e_model = e2e.end2endModel(num_bits_per_symbol=num_bits_per_symbol, block_length=block_length)\n",
    "\n",
    "ber_plots = sn.utils.PlotBER(\"Uncoded BER\")\n",
    "ber_plots.simulate(\n",
    "    uncoded_e2e_model,\n",
    "    ebno_dbs=np.linspace(ebno_db_min, ebno_db_max, 20),\n",
    "    batch_size=batch_size,\n",
    "    num_target_block_errors=100, # simulate until 100 block errors occured\n",
    "    legend=\"Uncoded\",\n",
    "    soft_estimates=True,\n",
    "    max_mc_iter=100, # run 100 Monte-Carlo simulations (each with batch_size samples)\n",
    "    show_fig=True\n",
    ")"
   ]
  },
  {
   "cell_type": "code",
   "execution_count": null,
   "metadata": {},
   "outputs": [],
   "source": []
  }
 ],
 "metadata": {
  "kernelspec": {
   "display_name": "Python 3 (ipykernel)",
   "language": "python",
   "name": "python3"
  },
  "language_info": {
   "codemirror_mode": {
    "name": "ipython",
    "version": 3
   },
   "file_extension": ".py",
   "mimetype": "text/x-python",
   "name": "python",
   "nbconvert_exporter": "python",
   "pygments_lexer": "ipython3",
   "version": "3.8.10"
  }
 },
 "nbformat": 4,
 "nbformat_minor": 4
}
