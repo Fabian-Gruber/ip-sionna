{
 "cells": [
  {
   "cell_type": "code",
   "execution_count": null,
   "metadata": {},
   "outputs": [],
   "source": [
    "import sionna as sn\n",
    "\n",
    "import end2endModel as e2e\n",
    "\n",
    "num_bits_per_symbol = 2\n",
    "block_length = 1024\n",
    "ebno_db_min = -3.0 # Minimum value of Eb/N0 [dB] for simulations\n",
    "ebno_db_max = 5.0 # Maximum value of Eb/N0 [dB] for simulations\n",
    "batch_size = 2000 # How many examples are processed by Sionna in parallel\n",
    "\n",
    "uncoded_e2e_model = e2e.end2endModel(num_bits_per_symbol=num_bits_per_symbol, block_length=block_length)\n",
    "\n",
    "ber_plots = sn.utils.PlotBER(\"Uncoded BER\")\n",
    "ber_plots.simulate(\n",
    "    uncoded_e2e_model,\n",
    "    ebno_dbs=np.linspace(ebno_db_min, ebno_db_max, 20),\n",
    "    batch_size=batch_size,\n",
    "    num_target_block_errors=100, # simulate until 100 block errors occured\n",
    "    legend=\"Uncoded\",\n",
    "    soft_estimates=True,\n",
    "    max_mc_iter=100, # run 100 Monte-Carlo simulations (each with batch_size samples)\n",
    "    show_fig=True\n",
    ")"
   ]
  }
 ],
 "metadata": {
  "language_info": {
   "name": "python"
  }
 },
 "nbformat": 4,
 "nbformat_minor": 2
}
